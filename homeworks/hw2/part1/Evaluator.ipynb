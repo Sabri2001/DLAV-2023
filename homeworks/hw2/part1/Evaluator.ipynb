{
 "cells": [
  {
   "cell_type": "code",
   "execution_count": null,
   "metadata": {
    "id": "fPFXjAVFIKnh"
   },
   "outputs": [],
   "source": [
    "import argparse\n",
    "import numpy as np\n",
    "import torch\n",
    "import torch.nn.functional as F\n",
    "import pickle\n",
    "import platform\n",
    "import os"
   ]
  },
  {
   "cell_type": "code",
   "execution_count": null,
   "metadata": {
    "id": "uGxnwhvlwMiI"
   },
   "outputs": [],
   "source": [
    "from google.colab import drive\n",
    "drive.mount('/content/drive')"
   ]
  },
  {
   "cell_type": "code",
   "execution_count": null,
   "metadata": {
    "id": "SwxcJW9wI9fp"
   },
   "outputs": [],
   "source": [
    "!git clone https://github.com/vita-epfl/DLAV-2023.git\n",
    "path = os.getcwd() + '/DLAV-2023/homeworks/hw2/part1/test_batch'"
   ]
  },
  {
   "cell_type": "code",
   "execution_count": null,
   "metadata": {
    "id": "pZXQTJIKJE_S"
   },
   "outputs": [],
   "source": [
    "# Write the location of the saved weight relative to this notebook. Assume that they are in the same directory\n",
    "### Path to Model Weights \n",
    "pytorch_weights = ...."
   ]
  },
  {
   "cell_type": "markdown",
   "metadata": {
    "id": "6chaH4G-Vfms"
   },
   "source": [
    "**TODO:** Copy the model you created from the Pytorch Notebook"
   ]
  },
  {
   "cell_type": "code",
   "execution_count": null,
   "metadata": {
    "id": "mSTfKTHEJBhy"
   },
   "outputs": [],
   "source": [
    "class Net(torch.nn.Module):\n",
    "    def __init__(self, n_feature, n_hidden, n_output):\n",
    "        super(Net, self).__init__()\n",
    "        pass\n",
    "\n",
    "    def forward(self, x):\n",
    "        pass\n",
    "        return x"
   ]
  },
  {
   "cell_type": "markdown",
   "metadata": {
    "id": "_UUbNTUAVsos"
   },
   "source": [
    "**TODO**: Follow the instructions in each of the following methods. **Note that these methods should return a 1-D array of size N where N is the number of data samples. The values should be the predicted classes [0,...,9].**\n",
    "\n"
   ]
  },
  {
   "cell_type": "code",
   "execution_count": null,
   "metadata": {
    "id": "bEKafMuaI4By"
   },
   "outputs": [],
   "source": [
    "def predict_usingPytorch(X):\n",
    "    #########################################################################\n",
    "    # TODO:                                                                 #\n",
    "    # - Create your model                                                   #\n",
    "    # - Load your saved model                                               #\n",
    "    # - Do the operation required to get the predictions                    #\n",
    "    # - Return predictions in a numpy array (hint: return \"argmax\")         #\n",
    "    #########################################################################\n",
    "    pass\n",
    "    #########################################################################\n",
    "    #                       END OF YOUR CODE                                #\n",
    "    #########################################################################\n",
    "    return y_pred.numpy()\n"
   ]
  },
  {
   "cell_type": "markdown",
   "metadata": {
    "id": "q8dM8fj39OBP"
   },
   "source": [
    "This method loads the test dataset to evaluate the model."
   ]
  },
  {
   "cell_type": "code",
   "execution_count": null,
   "metadata": {
    "id": "400u4eZNJAZq"
   },
   "outputs": [],
   "source": [
    "## Read DATA\n",
    "def load_pickle(f):\n",
    "    version = platform.python_version_tuple()\n",
    "    if version[0] == '2':\n",
    "        return  pickle.load(f)\n",
    "    elif version[0] == '3':\n",
    "        return  pickle.load(f, encoding='latin1')\n",
    "    raise ValueError(\"invalid python version: {}\".format(version))\n",
    "\n",
    "def load_CIFAR_batch(filename):\n",
    "  \"\"\" load single batch of cifar \"\"\"\n",
    "  with open(filename, 'rb') as f:\n",
    "    datadict = load_pickle(f)\n",
    "    X = datadict['data']\n",
    "    Y = datadict['labels']\n",
    "    X = X.reshape(10000, 3, 32, 32).transpose(0,2,3,1).astype(\"float\")\n",
    "    Y = np.array(Y)\n",
    "    return X, Y\n",
    "test_filename = path\n",
    "X,Y = load_CIFAR_batch(test_filename)"
   ]
  },
  {
   "cell_type": "markdown",
   "metadata": {
    "id": "AJ3mBYnx9TIe"
   },
   "source": [
    "This code snippet prepares the data for the model. If you modify data manipulation in your notebooks, make sure to include them here. "
   ]
  },
  {
   "cell_type": "code",
   "execution_count": null,
   "metadata": {
    "id": "IEmU5KnwJPBY"
   },
   "outputs": [],
   "source": [
    "## Data Manipulation\n",
    "\n",
    "mean = np.array([0.4914, 0.4822, 0.4465])\n",
    "std = np.array([0.2023, 0.1994, 0.2010])\n",
    "X = np.divide(np.subtract( X/255 , mean[np.newaxis,np.newaxis,:]), std[np.newaxis,np.newaxis,:])\n",
    "\n",
    "X_pytorch = torch.Tensor(np.moveaxis(X,-1,1))\n"
   ]
  },
  {
   "cell_type": "markdown",
   "metadata": {
    "id": "O2nQbKPL9c3G"
   },
   "source": [
    "Runs evaluation on the Pytorch model. **Be careful that *prediction_pytorch* and *prediction_softmax* are 1-D array of size N where N is the number of data samples. The values should be the predicted class [0,...,9]**\n",
    "\n",
    "---\n",
    "\n"
   ]
  },
  {
   "cell_type": "code",
   "execution_count": null,
   "metadata": {
    "id": "VKFPhm1wJjDv"
   },
   "outputs": [],
   "source": [
    "## Run Prediction\n",
    "prediction_pytorch = predict_usingPytorch(X_pytorch)\n",
    "\n",
    "## Run Evaluation\n",
    "acc_pytorch = sum(prediction_pytorch == Y)/len(X)\n",
    "print(\"Softmax= %f ... Pytorch= %f\"%(acc_pytorch))"
   ]
  }
 ],
 "metadata": {
  "colab": {
   "collapsed_sections": [],
   "name": "Evaluator.ipynb",
   "provenance": []
  },
  "kernelspec": {
   "display_name": "Python 3.8.0 64-bit",
   "language": "python",
   "name": "python3"
  },
  "language_info": {
   "codemirror_mode": {
    "name": "ipython",
    "version": 3
   },
   "file_extension": ".py",
   "mimetype": "text/x-python",
   "name": "python",
   "nbconvert_exporter": "python",
   "pygments_lexer": "ipython3",
   "version": "3.8.0"
  },
  "vscode": {
   "interpreter": {
    "hash": "df0893f56f349688326838aaeea0de204df53a132722cbd565e54b24a8fec5f6"
   }
  }
 },
 "nbformat": 4,
 "nbformat_minor": 1
}
